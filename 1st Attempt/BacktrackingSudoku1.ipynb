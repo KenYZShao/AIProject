{
 "cells": [
  {
   "cell_type": "code",
   "execution_count": null,
   "metadata": {},
   "outputs": [],
   "source": [
    "# 检查该位置填该数字是否满足要求 Check the satisfication of the number\n",
    "def check(m,n,e):\n",
    "    # 检查行 Check the column\n",
    "    if e in s[m]:\n",
    "        return False\n",
    "    # 检查列 Check the row\n",
    "    if e in s_T[n]:\n",
    "        return False\n",
    "    # 检查3X3网格 Check 3*3 grid\n",
    "    x=m//3*3\n",
    "    y=n//3*3\n",
    "    for i in range(x,x+3):\n",
    "        for j in range(y,y+3):\n",
    "            if s[i][j]==e:\n",
    "                return False\n",
    "    return True\n",
    "\n",
    "# 填数字 Fill the number\n",
    "def move(k):\n",
    "    if k==81:\n",
    "        return 0\n",
    "    # 从左到右，从上到下遍历每一格 Traversal from up to down\n",
    "    row,col=k//9,k%9\n",
    "    # 如果是该格为空 If the space is empty\n",
    "    if s[row][col]=='0':\n",
    "        # 从1~9依次尝试\n",
    "        for e in num:\n",
    "            # 如果该数满足要求，该格填上该数 If the number is satisifed, fill the number\n",
    "            if check(row,col,e):\n",
    "                s[row][col]=e\n",
    "                s_T[col][row]=e\n",
    "                # 移到下一格。如果下一格不管填什么都不满足要求，恢复现场 Move to the next, if it is not required \n",
    "                if move(k+1):\n",
    "                    s[row][col]='0'\n",
    "                    s_T[col][row]='0'\n",
    "                else:\n",
    "                    return 0\n",
    "        # 如果1~9都不满足，返回1\n",
    "        return 1\n",
    "    else:\n",
    "        if move(k+1):\n",
    "            return 1\n",
    "\n",
    "while True:\n",
    "    try:\n",
    "        # 输入 Input\n",
    "        s=[input().split() for i in range(9)]\n",
    "        s_T=[[s[i][j] for i in range(9)] for j in range(9)]\n",
    "        num=['1','2','3','4','5','6','7','8','9']\n",
    "        # 填数字 Fill the number\n",
    "        move(0)\n",
    "        # 打印 Print\n",
    "        for i in range(9):\n",
    "            print(' '.join(s[i]))\n",
    "    except:\n",
    "        break\n"
   ]
  }
 ],
 "metadata": {
  "kernelspec": {
   "display_name": "Python 3",
   "language": "python",
   "name": "python3"
  },
  "language_info": {
   "codemirror_mode": {
    "name": "ipython",
    "version": 3
   },
   "file_extension": ".py",
   "mimetype": "text/x-python",
   "name": "python",
   "nbconvert_exporter": "python",
   "pygments_lexer": "ipython3",
   "version": "3.7.4"
  }
 },
 "nbformat": 4,
 "nbformat_minor": 2
}
